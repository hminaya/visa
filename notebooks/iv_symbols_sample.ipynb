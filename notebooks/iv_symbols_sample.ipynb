{
 "nbformat": 4,
 "nbformat_minor": 2,
 "metadata": {
  "language_info": {
   "name": "python",
   "codemirror_mode": {
    "name": "ipython",
    "version": 3
   },
   "version": "3.7.6-final"
  },
  "orig_nbformat": 2,
  "file_extension": ".py",
  "mimetype": "text/x-python",
  "name": "python",
  "npconvert_exporter": "python",
  "pygments_lexer": "ipython3",
  "version": 3,
  "kernelspec": {
   "name": "python3",
   "display_name": "Python 3"
  }
 },
 "cells": [
  {
   "cell_type": "code",
   "execution_count": 3,
   "metadata": {},
   "outputs": [],
   "source": [
    "import pandas as pd\n",
    "import tabula as tb"
   ]
  },
  {
   "cell_type": "code",
   "execution_count": 4,
   "metadata": {},
   "outputs": [
    {
     "output_type": "stream",
     "name": "stderr",
     "text": "Got stderr: Feb 12, 2020 10:23:14 PM org.apache.pdfbox.pdmodel.font.PDCIDFontType2 <init>\nINFO: OpenType Layout tables used in font ABCDEE+Calibri are not implemented in PDFBox and will be ignored\nFeb 12, 2020 10:23:15 PM org.apache.pdfbox.pdmodel.font.PDCIDFontType2 <init>\nINFO: OpenType Layout tables used in font ABCDEE+Calibri are not implemented in PDFBox and will be ignored\nFeb 12, 2020 10:23:15 PM org.apache.pdfbox.pdmodel.font.PDCIDFontType2 <init>\nINFO: OpenType Layout tables used in font ABCDEE+Calibri are not implemented in PDFBox and will be ignored\nFeb 12, 2020 10:23:15 PM org.apache.pdfbox.pdmodel.font.PDCIDFontType2 <init>\nINFO: OpenType Layout tables used in font ABCDEE+Calibri are not implemented in PDFBox and will be ignored\nFeb 12, 2020 10:23:16 PM org.apache.pdfbox.pdmodel.font.PDCIDFontType2 <init>\nINFO: OpenType Layout tables used in font ABCDEE+Calibri are not implemented in PDFBox and will be ignored\nFeb 12, 2020 10:23:17 PM org.apache.pdfbox.pdmodel.font.PDCIDFontType2 <init>\nINFO: OpenType Layout tables used in font ABCDEE+Calibri are not implemented in PDFBox and will be ignored\nFeb 12, 2020 10:23:17 PM org.apache.pdfbox.pdmodel.font.PDCIDFontType2 <init>\nINFO: OpenType Layout tables used in font ABCDEE+Calibri are not implemented in PDFBox and will be ignored\nFeb 12, 2020 10:23:17 PM org.apache.pdfbox.pdmodel.font.PDCIDFontType2 <init>\nINFO: OpenType Layout tables used in font ABCDEE+Calibri are not implemented in PDFBox and will be ignored\nFeb 12, 2020 10:23:17 PM org.apache.pdfbox.pdmodel.font.PDCIDFontType2 <init>\nINFO: OpenType Layout tables used in font ABCDEE+Calibri are not implemented in PDFBox and will be ignored\n\n"
    }
   ],
   "source": [
    "fl = '../../data/temp/iv_symbols.pdf'\n",
    "\n",
    "tb.convert_into(fl, fl.replace(\"pdf\", \"csv\"), output_format=\"csv\", pages='all')"
   ]
  }
 ]
}