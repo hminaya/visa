{
 "nbformat": 4,
 "nbformat_minor": 2,
 "metadata": {
  "language_info": {
   "name": "python",
   "codemirror_mode": {
    "name": "ipython",
    "version": 3
   },
   "version": "3.7.6-final"
  },
  "orig_nbformat": 2,
  "file_extension": ".py",
  "mimetype": "text/x-python",
  "name": "python",
  "npconvert_exporter": "python",
  "pygments_lexer": "ipython3",
  "version": 3,
  "kernelspec": {
   "name": "python37664bitbasecondafbdc0306db184190ae556c6ae08b4ade",
   "display_name": "Python 3.7.6 64-bit ('base': conda)"
  }
 },
 "cells": [
  {
   "cell_type": "code",
   "execution_count": 13,
   "metadata": {},
   "outputs": [],
   "source": [
    "import pandas as pd"
   ]
  },
  {
   "cell_type": "code",
   "execution_count": 14,
   "metadata": {},
   "outputs": [],
   "source": [
    "fl = '/home/hminaya/Code/visa/data/catalog/iv_symbols.csv'\n",
    "fl_niv = '/home/hminaya/Code/visa/data/catalog/niv_symbols.csv'\n",
    "\n",
    "iv = pd.read_csv(fl, delimiter=\"|\")\n",
    "niv = pd.read_csv(fl_niv, delimiter=\"|\")"
   ]
  },
  {
   "cell_type": "code",
   "execution_count": 15,
   "metadata": {},
   "outputs": [
    {
     "output_type": "execute_result",
     "data": {
      "text/plain": "    VisaClass                              Category  \\\n0         IR1                   Immediate Relatives   \n1         IR2                   Immediate Relatives   \n2         IR3                   Immediate Relatives   \n3         IR4                   Immediate Relatives   \n4         IR5                   Immediate Relatives   \n..        ...                                   ...   \n127       I52          Employment-Based Preferences   \n128       I53          Employment-Based Preferences   \n129       DV1  Other Numerically Limited Categories   \n130       DV2  Other Numerically Limited Categories   \n131       DV3  Other Numerically Limited Categories   \n\n                                           SubCategory  \\\n0                                              General   \n1                                              General   \n2                                              General   \n3                                              General   \n4                                              General   \n..                                                 ...   \n127  Employment 5th Preference (Employment Creation...   \n128  Employment 5th Preference (Employment Creation...   \n129                               Diversity Immigrants   \n130                               Diversity Immigrants   \n131                               Diversity Immigrants   \n\n                                           Description  \n0                        Spouse of U.S. citizen 201(b)  \n1                         Child of U.S. citizen 201(b)  \n2         Orphan adopted abroad by U.S. citizen 201(b)  \n3    Orphan to be adopted in the United States by U...  \n4    Parent of U.S. citizen at least 21 years of ag...  \n..                                                 ...  \n127                   Spouse of I51 203(d) & 203(b)(5)  \n128                    Child of I51 203(d) & 203(b)(5)  \n129                         Diversity Immigrant 203(c)  \n130                      Spouse of DV1 203(d) & 203(c)  \n131                       Child of DV1 203(d) & 203(c)  \n\n[132 rows x 4 columns]",
      "text/html": "<div>\n<style scoped>\n    .dataframe tbody tr th:only-of-type {\n        vertical-align: middle;\n    }\n\n    .dataframe tbody tr th {\n        vertical-align: top;\n    }\n\n    .dataframe thead th {\n        text-align: right;\n    }\n</style>\n<table border=\"1\" class=\"dataframe\">\n  <thead>\n    <tr style=\"text-align: right;\">\n      <th></th>\n      <th>VisaClass</th>\n      <th>Category</th>\n      <th>SubCategory</th>\n      <th>Description</th>\n    </tr>\n  </thead>\n  <tbody>\n    <tr>\n      <th>0</th>\n      <td>IR1</td>\n      <td>Immediate Relatives</td>\n      <td>General</td>\n      <td>Spouse of U.S. citizen 201(b)</td>\n    </tr>\n    <tr>\n      <th>1</th>\n      <td>IR2</td>\n      <td>Immediate Relatives</td>\n      <td>General</td>\n      <td>Child of U.S. citizen 201(b)</td>\n    </tr>\n    <tr>\n      <th>2</th>\n      <td>IR3</td>\n      <td>Immediate Relatives</td>\n      <td>General</td>\n      <td>Orphan adopted abroad by U.S. citizen 201(b)</td>\n    </tr>\n    <tr>\n      <th>3</th>\n      <td>IR4</td>\n      <td>Immediate Relatives</td>\n      <td>General</td>\n      <td>Orphan to be adopted in the United States by U...</td>\n    </tr>\n    <tr>\n      <th>4</th>\n      <td>IR5</td>\n      <td>Immediate Relatives</td>\n      <td>General</td>\n      <td>Parent of U.S. citizen at least 21 years of ag...</td>\n    </tr>\n    <tr>\n      <th>...</th>\n      <td>...</td>\n      <td>...</td>\n      <td>...</td>\n      <td>...</td>\n    </tr>\n    <tr>\n      <th>127</th>\n      <td>I52</td>\n      <td>Employment-Based Preferences</td>\n      <td>Employment 5th Preference (Employment Creation...</td>\n      <td>Spouse of I51 203(d) &amp; 203(b)(5)</td>\n    </tr>\n    <tr>\n      <th>128</th>\n      <td>I53</td>\n      <td>Employment-Based Preferences</td>\n      <td>Employment 5th Preference (Employment Creation...</td>\n      <td>Child of I51 203(d) &amp; 203(b)(5)</td>\n    </tr>\n    <tr>\n      <th>129</th>\n      <td>DV1</td>\n      <td>Other Numerically Limited Categories</td>\n      <td>Diversity Immigrants</td>\n      <td>Diversity Immigrant 203(c)</td>\n    </tr>\n    <tr>\n      <th>130</th>\n      <td>DV2</td>\n      <td>Other Numerically Limited Categories</td>\n      <td>Diversity Immigrants</td>\n      <td>Spouse of DV1 203(d) &amp; 203(c)</td>\n    </tr>\n    <tr>\n      <th>131</th>\n      <td>DV3</td>\n      <td>Other Numerically Limited Categories</td>\n      <td>Diversity Immigrants</td>\n      <td>Child of DV1 203(d) &amp; 203(c)</td>\n    </tr>\n  </tbody>\n</table>\n<p>132 rows × 4 columns</p>\n</div>"
     },
     "metadata": {},
     "execution_count": 15
    }
   ],
   "source": [
    "iv"
   ]
  },
  {
   "cell_type": "code",
   "execution_count": 16,
   "metadata": {},
   "outputs": [
    {
     "output_type": "execute_result",
     "data": {
      "text/plain": "array(['IR1', 'IR2', 'IR3', 'IR4', 'IR5', 'IH3', 'IH4', 'CR1', 'CR2',\n       'IW1', 'IW2', 'IB1', 'IB2', 'IB3', 'VI5', 'AM1', 'AM2', 'AM3',\n       'SB1', 'SC1', 'SC2', 'SI1', 'SI2', 'SI3', 'SM1', 'SM2', 'SM3',\n       'SQ1', 'SQ2', 'SQ3', 'SU2', 'SU3', 'SU5', 'F11', 'F12', 'B11',\n       'B12', 'F21', 'F22', 'F23', 'F24', 'F25', 'C21', 'C22', 'C23',\n       'C24', 'C25', 'B21', 'B22', 'B23', 'B24', 'B25', 'FX1', 'FX2',\n       'FX3', 'CX1', 'CX2', 'CX3', 'BX1', 'BX2', 'BX3', 'F31', 'F32',\n       'F33', 'C31', 'C32', 'C33', 'B31', 'B32', 'B33', 'F41', 'F42',\n       'F43', 'E11', 'E12', 'E13', 'E14', 'E15', 'E21', 'E22', 'E23',\n       'E31', 'E32', 'E34', 'E35', 'EW3', 'EW4', 'EW5', 'BC1', 'BC2',\n       'BC3', 'SD1', 'SD2', 'SD3', 'SE1', 'SE2', 'SE3', 'SF1', 'SF2',\n       'SG1', 'SG2', 'SH1', 'SH2', 'SJ1', 'SJ2', 'SK1', 'SK2', 'SK3',\n       'SK4', 'SL1', 'SN1', 'SN2', 'SN3', 'SN4', 'SR1', 'SR2', 'SR3',\n       'C51', 'C52', 'C53', 'T51', 'T52', 'T53', 'R51', 'R52', 'R53',\n       'I51', 'I52', 'I53', 'DV1', 'DV2', 'DV3'], dtype=object)"
     },
     "metadata": {},
     "execution_count": 16
    }
   ],
   "source": [
    "iv.VisaClass.str.strip().unique()"
   ]
  },
  {
   "cell_type": "code",
   "execution_count": 17,
   "metadata": {},
   "outputs": [
    {
     "output_type": "execute_result",
     "data": {
      "text/plain": "array(['ir1', 'ir2', 'ir3', 'ir4', 'ir5', 'ih3', 'ih4', 'cr1', 'cr2',\n       'iw1', 'iw2', 'ib1', 'ib2', 'ib3', 'vi5', 'am1', 'am2', 'am3',\n       'sb1', 'sc1', 'sc2', 'si1', 'si2', 'si3', 'sm1', 'sm2', 'sm3',\n       'sq1', 'sq2', 'sq3', 'su2', 'su3', 'su5', 'f11', 'f12', 'b11',\n       'b12', 'f21', 'f22', 'f23', 'f24', 'f25', 'c21', 'c22', 'c23',\n       'c24', 'c25', 'b21', 'b22', 'b23', 'b24', 'b25', 'fx1', 'fx2',\n       'fx3', 'cx1', 'cx2', 'cx3', 'bx1', 'bx2', 'bx3', 'f31', 'f32',\n       'f33', 'c31', 'c32', 'c33', 'b31', 'b32', 'b33', 'f41', 'f42',\n       'f43', 'e11', 'e12', 'e13', 'e14', 'e15', 'e21', 'e22', 'e23',\n       'e31', 'e32', 'e34', 'e35', 'ew3', 'ew4', 'ew5', 'bc1', 'bc2',\n       'bc3', 'sd1', 'sd2', 'sd3', 'se1', 'se2', 'se3', 'sf1', 'sf2',\n       'sg1', 'sg2', 'sh1', 'sh2', 'sj1', 'sj2', 'sk1', 'sk2', 'sk3',\n       'sk4', 'sl1', 'sn1', 'sn2', 'sn3', 'sn4', 'sr1', 'sr2', 'sr3',\n       'c51', 'c52', 'c53', 't51', 't52', 't53', 'r51', 'r52', 'r53',\n       'i51', 'i52', 'i53', 'dv1', 'dv2', 'dv3'], dtype=object)"
     },
     "metadata": {},
     "execution_count": 17
    }
   ],
   "source": [
    "iv.VisaClass.str.lower().str.strip().unique()"
   ]
  },
  {
   "cell_type": "code",
   "execution_count": 18,
   "metadata": {},
   "outputs": [
    {
     "output_type": "execute_result",
     "data": {
      "text/plain": "   VisaClass                                        Description\n0        A-1  Ambassador, public minister, career diplomat o...\n1        A-2  Other foreign government official or employee,...\n2        A-3  Attendant, servant, or personal employee of A1...\n3        B-1       Temporary visitor for business 101(a)(15)(B)\n4    B-1/B-2  Temporary visitor for business & pleasure 101(...\n..       ...                                                ...\n76       U-1  Victim of criminal activity INA 101(a)(15)(U)(i).\n77       U-2                    Spouse of U-1 101(a)(15)(U)(ii)\n78       U-3                     Child of U-1 101(a)(15)(U)(ii)\n79       U-4  Parent of U-1 under 21 years of age 101(a)(15)...\n80       U-5  Unmarried sibling under age 18 of U-1 under 21...\n\n[81 rows x 2 columns]",
      "text/html": "<div>\n<style scoped>\n    .dataframe tbody tr th:only-of-type {\n        vertical-align: middle;\n    }\n\n    .dataframe tbody tr th {\n        vertical-align: top;\n    }\n\n    .dataframe thead th {\n        text-align: right;\n    }\n</style>\n<table border=\"1\" class=\"dataframe\">\n  <thead>\n    <tr style=\"text-align: right;\">\n      <th></th>\n      <th>VisaClass</th>\n      <th>Description</th>\n    </tr>\n  </thead>\n  <tbody>\n    <tr>\n      <th>0</th>\n      <td>A-1</td>\n      <td>Ambassador, public minister, career diplomat o...</td>\n    </tr>\n    <tr>\n      <th>1</th>\n      <td>A-2</td>\n      <td>Other foreign government official or employee,...</td>\n    </tr>\n    <tr>\n      <th>2</th>\n      <td>A-3</td>\n      <td>Attendant, servant, or personal employee of A1...</td>\n    </tr>\n    <tr>\n      <th>3</th>\n      <td>B-1</td>\n      <td>Temporary visitor for business 101(a)(15)(B)</td>\n    </tr>\n    <tr>\n      <th>4</th>\n      <td>B-1/B-2</td>\n      <td>Temporary visitor for business &amp; pleasure 101(...</td>\n    </tr>\n    <tr>\n      <th>...</th>\n      <td>...</td>\n      <td>...</td>\n    </tr>\n    <tr>\n      <th>76</th>\n      <td>U-1</td>\n      <td>Victim of criminal activity INA 101(a)(15)(U)(i).</td>\n    </tr>\n    <tr>\n      <th>77</th>\n      <td>U-2</td>\n      <td>Spouse of U-1 101(a)(15)(U)(ii)</td>\n    </tr>\n    <tr>\n      <th>78</th>\n      <td>U-3</td>\n      <td>Child of U-1 101(a)(15)(U)(ii)</td>\n    </tr>\n    <tr>\n      <th>79</th>\n      <td>U-4</td>\n      <td>Parent of U-1 under 21 years of age 101(a)(15)...</td>\n    </tr>\n    <tr>\n      <th>80</th>\n      <td>U-5</td>\n      <td>Unmarried sibling under age 18 of U-1 under 21...</td>\n    </tr>\n  </tbody>\n</table>\n<p>81 rows × 2 columns</p>\n</div>"
     },
     "metadata": {},
     "execution_count": 18
    }
   ],
   "source": [
    "niv"
   ]
  },
  {
   "cell_type": "code",
   "execution_count": 19,
   "metadata": {},
   "outputs": [],
   "source": [
    "    niv['VisaClass'] = niv['VisaClass'].str.lower().str.replace('-', '', regex=False)\n",
    "    niv['Category'] = 'NIV'\n",
    "    niv['SubCategory'] = 'NIV'"
   ]
  },
  {
   "cell_type": "code",
   "execution_count": 20,
   "metadata": {},
   "outputs": [
    {
     "output_type": "execute_result",
     "data": {
      "text/plain": "   VisaClass                                        Description Category  \\\n0         a1  Ambassador, public minister, career diplomat o...      NIV   \n1         a2  Other foreign government official or employee,...      NIV   \n2         a3  Attendant, servant, or personal employee of A1...      NIV   \n3         b1       Temporary visitor for business 101(a)(15)(B)      NIV   \n4      b1/b2  Temporary visitor for business & pleasure 101(...      NIV   \n..       ...                                                ...      ...   \n76        u1  Victim of criminal activity INA 101(a)(15)(U)(i).      NIV   \n77        u2                    Spouse of U-1 101(a)(15)(U)(ii)      NIV   \n78        u3                     Child of U-1 101(a)(15)(U)(ii)      NIV   \n79        u4  Parent of U-1 under 21 years of age 101(a)(15)...      NIV   \n80        u5  Unmarried sibling under age 18 of U-1 under 21...      NIV   \n\n   SubCategory  \n0          NIV  \n1          NIV  \n2          NIV  \n3          NIV  \n4          NIV  \n..         ...  \n76         NIV  \n77         NIV  \n78         NIV  \n79         NIV  \n80         NIV  \n\n[81 rows x 4 columns]",
      "text/html": "<div>\n<style scoped>\n    .dataframe tbody tr th:only-of-type {\n        vertical-align: middle;\n    }\n\n    .dataframe tbody tr th {\n        vertical-align: top;\n    }\n\n    .dataframe thead th {\n        text-align: right;\n    }\n</style>\n<table border=\"1\" class=\"dataframe\">\n  <thead>\n    <tr style=\"text-align: right;\">\n      <th></th>\n      <th>VisaClass</th>\n      <th>Description</th>\n      <th>Category</th>\n      <th>SubCategory</th>\n    </tr>\n  </thead>\n  <tbody>\n    <tr>\n      <th>0</th>\n      <td>a1</td>\n      <td>Ambassador, public minister, career diplomat o...</td>\n      <td>NIV</td>\n      <td>NIV</td>\n    </tr>\n    <tr>\n      <th>1</th>\n      <td>a2</td>\n      <td>Other foreign government official or employee,...</td>\n      <td>NIV</td>\n      <td>NIV</td>\n    </tr>\n    <tr>\n      <th>2</th>\n      <td>a3</td>\n      <td>Attendant, servant, or personal employee of A1...</td>\n      <td>NIV</td>\n      <td>NIV</td>\n    </tr>\n    <tr>\n      <th>3</th>\n      <td>b1</td>\n      <td>Temporary visitor for business 101(a)(15)(B)</td>\n      <td>NIV</td>\n      <td>NIV</td>\n    </tr>\n    <tr>\n      <th>4</th>\n      <td>b1/b2</td>\n      <td>Temporary visitor for business &amp; pleasure 101(...</td>\n      <td>NIV</td>\n      <td>NIV</td>\n    </tr>\n    <tr>\n      <th>...</th>\n      <td>...</td>\n      <td>...</td>\n      <td>...</td>\n      <td>...</td>\n    </tr>\n    <tr>\n      <th>76</th>\n      <td>u1</td>\n      <td>Victim of criminal activity INA 101(a)(15)(U)(i).</td>\n      <td>NIV</td>\n      <td>NIV</td>\n    </tr>\n    <tr>\n      <th>77</th>\n      <td>u2</td>\n      <td>Spouse of U-1 101(a)(15)(U)(ii)</td>\n      <td>NIV</td>\n      <td>NIV</td>\n    </tr>\n    <tr>\n      <th>78</th>\n      <td>u3</td>\n      <td>Child of U-1 101(a)(15)(U)(ii)</td>\n      <td>NIV</td>\n      <td>NIV</td>\n    </tr>\n    <tr>\n      <th>79</th>\n      <td>u4</td>\n      <td>Parent of U-1 under 21 years of age 101(a)(15)...</td>\n      <td>NIV</td>\n      <td>NIV</td>\n    </tr>\n    <tr>\n      <th>80</th>\n      <td>u5</td>\n      <td>Unmarried sibling under age 18 of U-1 under 21...</td>\n      <td>NIV</td>\n      <td>NIV</td>\n    </tr>\n  </tbody>\n</table>\n<p>81 rows × 4 columns</p>\n</div>"
     },
     "metadata": {},
     "execution_count": 20
    }
   ],
   "source": [
    "niv"
   ]
  }
 ]
}