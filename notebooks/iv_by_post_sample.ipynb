{
 "cells": [
  {
   "cell_type": "code",
   "execution_count": 17,
   "metadata": {},
   "outputs": [],
   "source": [
    "import pandas as pd"
   ]
  },
  {
   "cell_type": "code",
   "execution_count": 18,
   "metadata": {},
   "outputs": [],
   "source": [
    "\n",
    "fl = '/home/hminaya/Code/visa/data/processed/November 2018 - IV Issuances by Post and Visa Class.csv'\n",
    "\n",
    "iv = pd.read_csv(\n",
    "    fl,\n",
    "    delimiter=',', \n",
    "    header=None,\n",
    "    names=['Post', 'VisaClass', 'Quantity']\n",
    "    )"
   ]
  },
  {
   "cell_type": "code",
   "execution_count": 19,
   "metadata": {},
   "outputs": [
    {
     "data": {
      "text/html": "<div>\n<style scoped>\n    .dataframe tbody tr th:only-of-type {\n        vertical-align: middle;\n    }\n\n    .dataframe tbody tr th {\n        vertical-align: top;\n    }\n\n    .dataframe thead th {\n        text-align: right;\n    }\n</style>\n<table border=\"1\" class=\"dataframe\">\n  <thead>\n    <tr style=\"text-align: right;\">\n      <th></th>\n      <th>Post</th>\n      <th>VisaClass</th>\n      <th>Quantity</th>\n    </tr>\n  </thead>\n  <tbody>\n    <tr>\n      <th>40</th>\n      <td>dhabi abu</td>\n      <td>sq2</td>\n      <td>1</td>\n    </tr>\n    <tr>\n      <th>41</th>\n      <td>accra</td>\n      <td>cr1</td>\n      <td>49</td>\n    </tr>\n    <tr>\n      <th>42</th>\n      <td>accra</td>\n      <td>cr2</td>\n      <td>3</td>\n    </tr>\n    <tr>\n      <th>43</th>\n      <td>accra</td>\n      <td>dv1</td>\n      <td>23</td>\n    </tr>\n    <tr>\n      <th>44</th>\n      <td>accra</td>\n      <td>dv2</td>\n      <td>7</td>\n    </tr>\n    <tr>\n      <th>45</th>\n      <td>accra</td>\n      <td>dv3</td>\n      <td>5</td>\n    </tr>\n    <tr>\n      <th>46</th>\n      <td>accra</td>\n      <td>e31</td>\n      <td>10</td>\n    </tr>\n    <tr>\n      <th>47</th>\n      <td>accra</td>\n      <td>e34</td>\n      <td>8</td>\n    </tr>\n    <tr>\n      <th>48</th>\n      <td>accra</td>\n      <td>e35</td>\n      <td>14</td>\n    </tr>\n    <tr>\n      <th>49</th>\n      <td>accra</td>\n      <td>f11</td>\n      <td>25</td>\n    </tr>\n  </tbody>\n</table>\n</div>",
      "text/plain": "          Post VisaClass  Quantity\n40   dhabi abu       sq2         1\n41       accra       cr1        49\n42       accra       cr2         3\n43       accra       dv1        23\n44       accra       dv2         7\n45       accra       dv3         5\n46       accra       e31        10\n47       accra       e34         8\n48       accra       e35        14\n49       accra       f11        25"
     },
     "execution_count": 19,
     "metadata": {},
     "output_type": "execute_result"
    }
   ],
   "source": [
    "iv.iloc[40:50]"
   ]
  },
  {
   "cell_type": "code",
   "execution_count": 20,
   "metadata": {},
   "outputs": [],
   "source": [
    "iv['VisaType'] = 'IV'\n",
    "iv['Year'] = 2018\n",
    "iv['Month'] = 'November'"
   ]
  },
  {
   "cell_type": "code",
   "execution_count": 21,
   "metadata": {},
   "outputs": [
    {
     "data": {
      "text/html": "<div>\n<style scoped>\n    .dataframe tbody tr th:only-of-type {\n        vertical-align: middle;\n    }\n\n    .dataframe tbody tr th {\n        vertical-align: top;\n    }\n\n    .dataframe thead th {\n        text-align: right;\n    }\n</style>\n<table border=\"1\" class=\"dataframe\">\n  <thead>\n    <tr style=\"text-align: right;\">\n      <th></th>\n      <th>Post</th>\n      <th>VisaClass</th>\n      <th>Quantity</th>\n      <th>VisaType</th>\n      <th>Year</th>\n      <th>Month</th>\n    </tr>\n  </thead>\n  <tbody>\n    <tr>\n      <th>0</th>\n      <td>abidjan</td>\n      <td>cr1</td>\n      <td>7</td>\n      <td>IV</td>\n      <td>2018</td>\n      <td>November</td>\n    </tr>\n    <tr>\n      <th>1</th>\n      <td>abidjan</td>\n      <td>dv1</td>\n      <td>1</td>\n      <td>IV</td>\n      <td>2018</td>\n      <td>November</td>\n    </tr>\n    <tr>\n      <th>2</th>\n      <td>abidjan</td>\n      <td>f11</td>\n      <td>2</td>\n      <td>IV</td>\n      <td>2018</td>\n      <td>November</td>\n    </tr>\n    <tr>\n      <th>3</th>\n      <td>abidjan</td>\n      <td>f21</td>\n      <td>1</td>\n      <td>IV</td>\n      <td>2018</td>\n      <td>November</td>\n    </tr>\n    <tr>\n      <th>4</th>\n      <td>abidjan</td>\n      <td>f22</td>\n      <td>3</td>\n      <td>IV</td>\n      <td>2018</td>\n      <td>November</td>\n    </tr>\n    <tr>\n      <th>...</th>\n      <td>...</td>\n      <td>...</td>\n      <td>...</td>\n      <td>...</td>\n      <td>...</td>\n      <td>...</td>\n    </tr>\n    <tr>\n      <th>2369</th>\n      <td>yerevan</td>\n      <td>ir5</td>\n      <td>24</td>\n      <td>IV</td>\n      <td>2018</td>\n      <td>November</td>\n    </tr>\n    <tr>\n      <th>2370</th>\n      <td>yerevan</td>\n      <td>sb1</td>\n      <td>1</td>\n      <td>IV</td>\n      <td>2018</td>\n      <td>November</td>\n    </tr>\n    <tr>\n      <th>2371</th>\n      <td>zagreb</td>\n      <td>dv1</td>\n      <td>1</td>\n      <td>IV</td>\n      <td>2018</td>\n      <td>November</td>\n    </tr>\n    <tr>\n      <th>2372</th>\n      <td>zagreb</td>\n      <td>ir1</td>\n      <td>1</td>\n      <td>IV</td>\n      <td>2018</td>\n      <td>November</td>\n    </tr>\n    <tr>\n      <th>2373</th>\n      <td>zagreb</td>\n      <td>ir5</td>\n      <td>3</td>\n      <td>IV</td>\n      <td>2018</td>\n      <td>November</td>\n    </tr>\n  </tbody>\n</table>\n<p>2374 rows × 6 columns</p>\n</div>",
      "text/plain": "          Post VisaClass  Quantity VisaType  Year     Month\n0      abidjan       cr1         7       IV  2018  November\n1      abidjan       dv1         1       IV  2018  November\n2      abidjan       f11         2       IV  2018  November\n3      abidjan       f21         1       IV  2018  November\n4      abidjan       f22         3       IV  2018  November\n...        ...       ...       ...      ...   ...       ...\n2369   yerevan       ir5        24       IV  2018  November\n2370   yerevan       sb1         1       IV  2018  November\n2371    zagreb       dv1         1       IV  2018  November\n2372    zagreb       ir1         1       IV  2018  November\n2373    zagreb       ir5         3       IV  2018  November\n\n[2374 rows x 6 columns]"
     },
     "execution_count": 21,
     "metadata": {},
     "output_type": "execute_result"
    }
   ],
   "source": [
    "iv"
   ]
  },
  {
   "cell_type": "code",
   "execution_count": 22,
   "metadata": {},
   "outputs": [
    {
     "data": {
      "text/html": "<div>\n<style scoped>\n    .dataframe tbody tr th:only-of-type {\n        vertical-align: middle;\n    }\n\n    .dataframe tbody tr th {\n        vertical-align: top;\n    }\n\n    .dataframe thead th {\n        text-align: right;\n    }\n</style>\n<table border=\"1\" class=\"dataframe\">\n  <thead>\n    <tr style=\"text-align: right;\">\n      <th></th>\n      <th>Post</th>\n      <th>VisaClass</th>\n      <th>Quantity</th>\n      <th>VisaType</th>\n      <th>Year</th>\n      <th>Month</th>\n    </tr>\n  </thead>\n  <tbody>\n    <tr>\n      <th>1768</th>\n      <td>penh phnom</td>\n      <td>sr1</td>\n      <td>1</td>\n      <td>IV</td>\n      <td>2018</td>\n      <td>November</td>\n    </tr>\n    <tr>\n      <th>1769</th>\n      <td>spain of port</td>\n      <td>cr1</td>\n      <td>3</td>\n      <td>IV</td>\n      <td>2018</td>\n      <td>November</td>\n    </tr>\n    <tr>\n      <th>1770</th>\n      <td>spain of port</td>\n      <td>e31</td>\n      <td>5</td>\n      <td>IV</td>\n      <td>2018</td>\n      <td>November</td>\n    </tr>\n    <tr>\n      <th>1771</th>\n      <td>spain of port</td>\n      <td>e34</td>\n      <td>3</td>\n      <td>IV</td>\n      <td>2018</td>\n      <td>November</td>\n    </tr>\n    <tr>\n      <th>1772</th>\n      <td>spain of port</td>\n      <td>e35</td>\n      <td>5</td>\n      <td>IV</td>\n      <td>2018</td>\n      <td>November</td>\n    </tr>\n    <tr>\n      <th>1773</th>\n      <td>spain of port</td>\n      <td>f11</td>\n      <td>3</td>\n      <td>IV</td>\n      <td>2018</td>\n      <td>November</td>\n    </tr>\n    <tr>\n      <th>1774</th>\n      <td>spain of port</td>\n      <td>f12</td>\n      <td>1</td>\n      <td>IV</td>\n      <td>2018</td>\n      <td>November</td>\n    </tr>\n    <tr>\n      <th>1775</th>\n      <td>spain of port</td>\n      <td>f22</td>\n      <td>2</td>\n      <td>IV</td>\n      <td>2018</td>\n      <td>November</td>\n    </tr>\n    <tr>\n      <th>1776</th>\n      <td>spain of port</td>\n      <td>f24</td>\n      <td>3</td>\n      <td>IV</td>\n      <td>2018</td>\n      <td>November</td>\n    </tr>\n    <tr>\n      <th>1777</th>\n      <td>spain of port</td>\n      <td>f25</td>\n      <td>1</td>\n      <td>IV</td>\n      <td>2018</td>\n      <td>November</td>\n    </tr>\n  </tbody>\n</table>\n</div>",
      "text/plain": "                Post VisaClass  Quantity VisaType  Year     Month\n1768      penh phnom       sr1         1       IV  2018  November\n1769   spain of port       cr1         3       IV  2018  November\n1770   spain of port       e31         5       IV  2018  November\n1771   spain of port       e34         3       IV  2018  November\n1772   spain of port       e35         5       IV  2018  November\n1773   spain of port       f11         3       IV  2018  November\n1774   spain of port       f12         1       IV  2018  November\n1775   spain of port       f22         2       IV  2018  November\n1776   spain of port       f24         3       IV  2018  November\n1777   spain of port       f25         1       IV  2018  November"
     },
     "execution_count": 22,
     "metadata": {},
     "output_type": "execute_result"
    }
   ],
   "source": [
    "iv.iloc[1768:1778]"
   ]
  },
  {
   "cell_type": "code",
   "execution_count": 23,
   "metadata": {},
   "outputs": [],
   "source": [
    "iv.to_csv('/home/hminaya/Code/visa/data/temp/tmp.csv', index=False)"
   ]
  },
  {
   "cell_type": "code",
   "execution_count": 24,
   "metadata": {},
   "outputs": [
    {
     "data": {
      "text/plain": "array(['cr1', 'dv1', 'f11', 'f21', 'f22', 'f24', 'fx1', 'fx2', 'ir1',\n       'ir2', 'ir5', 'sb1', 'se1', 'se2', 'cr2', 'dv2', 'dv3', 'e22',\n       'e23', 'e31', 'e34', 'e35', 'f12', 'f31', 'f32', 'f33', 'f41',\n       'f42', 'f43', 'fx3', 'sq2', 'f23', 'f25', 'ib2', 'ib3', 'iw1',\n       'e21', 'se3', 'e32', 'i51', 'i52', 'i53', 't51', 't52', 'ir4',\n       'e14', 'sq1', 'sq3', 'ib1', 'ew3', 'ew4', 'ew5', 'ih3', 'ih4',\n       'e11', 'ir3', 'e15', 'sd1', 'iw2', 'bx1', 'su3', 'c51', 'c52',\n       'c53', 'e13', 't53', 'am1', 'am2', 'si1', 'si2', 'si3', 'sr1',\n       'sr2', 'sr3', 'sd2', 'sd3', 'bc1'], dtype=object)"
     },
     "execution_count": 24,
     "metadata": {},
     "output_type": "execute_result"
    }
   ],
   "source": [
    "iv.VisaClass.str.strip().unique()"
   ]
  },
  {
   "cell_type": "code",
   "execution_count": 31,
   "metadata": {},
   "outputs": [],
   "source": []
  },
  {
   "cell_type": "code",
   "execution_count": null,
   "metadata": {},
   "outputs": [],
   "source": []
  }
 ],
 "metadata": {
  "file_extension": ".py",
  "kernelspec": {
   "display_name": "Python 3",
   "language": "python",
   "name": "python3"
  },
  "language_info": {
   "codemirror_mode": {
    "name": "ipython",
    "version": 3
   },
   "file_extension": ".py",
   "mimetype": "text/x-python",
   "name": "python",
   "nbconvert_exporter": "python",
   "pygments_lexer": "ipython3",
   "version": "3.7.6-final"
  },
  "mimetype": "text/x-python",
  "name": "python",
  "npconvert_exporter": "python",
  "pygments_lexer": "ipython3",
  "version": 3
 },
 "nbformat": 4,
 "nbformat_minor": 2
}