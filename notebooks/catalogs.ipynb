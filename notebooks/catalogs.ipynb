{
 "nbformat": 4,
 "nbformat_minor": 2,
 "metadata": {
  "language_info": {
   "name": "python",
   "codemirror_mode": {
    "name": "ipython",
    "version": 3
   },
   "version": "3.7.6-final"
  },
  "orig_nbformat": 2,
  "file_extension": ".py",
  "mimetype": "text/x-python",
  "name": "python",
  "npconvert_exporter": "python",
  "pygments_lexer": "ipython3",
  "version": 3,
  "kernelspec": {
   "name": "python37664bitbasecondafbdc0306db184190ae556c6ae08b4ade",
   "display_name": "Python 3.7.6 64-bit ('base': conda)"
  }
 },
 "cells": [
  {
   "cell_type": "code",
   "execution_count": 22,
   "metadata": {},
   "outputs": [],
   "source": [
    "import pandas as pd\n",
    "import os"
   ]
  },
  {
   "cell_type": "code",
   "execution_count": 23,
   "metadata": {},
   "outputs": [],
   "source": [
    "iv_catalog = 'data/catalog/iv_symbols.csv'\n",
    "niv_catalog = 'data/catalog/niv_symbols.csv'"
   ]
  },
  {
   "cell_type": "code",
   "execution_count": 24,
   "metadata": {},
   "outputs": [
    {
     "output_type": "execute_result",
     "data": {
      "text/plain": "'/home/hminaya/Code/visa'"
     },
     "metadata": {},
     "execution_count": 24
    }
   ],
   "source": [
    "os.getcwd()"
   ]
  },
  {
   "cell_type": "code",
   "execution_count": 25,
   "metadata": {},
   "outputs": [
    {
     "output_type": "execute_result",
     "data": {
      "text/plain": "    VisaClass                              Category  \\\n0         IR1                   Immediate Relatives   \n1         IR2                   Immediate Relatives   \n2         IR3                   Immediate Relatives   \n3         IR4                   Immediate Relatives   \n4         IR5                   Immediate Relatives   \n..        ...                                   ...   \n127       I52          Employment-Based Preferences   \n128       I53          Employment-Based Preferences   \n129       DV1  Other Numerically Limited Categories   \n130       DV2  Other Numerically Limited Categories   \n131       DV3  Other Numerically Limited Categories   \n\n                                           SubCategory  \\\n0                                              General   \n1                                              General   \n2                                              General   \n3                                              General   \n4                                              General   \n..                                                 ...   \n127  Employment 5th Preference (Employment Creation...   \n128  Employment 5th Preference (Employment Creation...   \n129                               Diversity Immigrants   \n130                               Diversity Immigrants   \n131                               Diversity Immigrants   \n\n                                           Description  \n0                        Spouse of U.S. citizen 201(b)  \n1                         Child of U.S. citizen 201(b)  \n2         Orphan adopted abroad by U.S. citizen 201(b)  \n3    Orphan to be adopted in the United States by U...  \n4    Parent of U.S. citizen at least 21 years of ag...  \n..                                                 ...  \n127                   Spouse of I51 203(d) & 203(b)(5)  \n128                    Child of I51 203(d) & 203(b)(5)  \n129                         Diversity Immigrant 203(c)  \n130                      Spouse of DV1 203(d) & 203(c)  \n131                       Child of DV1 203(d) & 203(c)  \n\n[132 rows x 4 columns]",
      "text/html": "<div>\n<style scoped>\n    .dataframe tbody tr th:only-of-type {\n        vertical-align: middle;\n    }\n\n    .dataframe tbody tr th {\n        vertical-align: top;\n    }\n\n    .dataframe thead th {\n        text-align: right;\n    }\n</style>\n<table border=\"1\" class=\"dataframe\">\n  <thead>\n    <tr style=\"text-align: right;\">\n      <th></th>\n      <th>VisaClass</th>\n      <th>Category</th>\n      <th>SubCategory</th>\n      <th>Description</th>\n    </tr>\n  </thead>\n  <tbody>\n    <tr>\n      <th>0</th>\n      <td>IR1</td>\n      <td>Immediate Relatives</td>\n      <td>General</td>\n      <td>Spouse of U.S. citizen 201(b)</td>\n    </tr>\n    <tr>\n      <th>1</th>\n      <td>IR2</td>\n      <td>Immediate Relatives</td>\n      <td>General</td>\n      <td>Child of U.S. citizen 201(b)</td>\n    </tr>\n    <tr>\n      <th>2</th>\n      <td>IR3</td>\n      <td>Immediate Relatives</td>\n      <td>General</td>\n      <td>Orphan adopted abroad by U.S. citizen 201(b)</td>\n    </tr>\n    <tr>\n      <th>3</th>\n      <td>IR4</td>\n      <td>Immediate Relatives</td>\n      <td>General</td>\n      <td>Orphan to be adopted in the United States by U...</td>\n    </tr>\n    <tr>\n      <th>4</th>\n      <td>IR5</td>\n      <td>Immediate Relatives</td>\n      <td>General</td>\n      <td>Parent of U.S. citizen at least 21 years of ag...</td>\n    </tr>\n    <tr>\n      <th>...</th>\n      <td>...</td>\n      <td>...</td>\n      <td>...</td>\n      <td>...</td>\n    </tr>\n    <tr>\n      <th>127</th>\n      <td>I52</td>\n      <td>Employment-Based Preferences</td>\n      <td>Employment 5th Preference (Employment Creation...</td>\n      <td>Spouse of I51 203(d) &amp; 203(b)(5)</td>\n    </tr>\n    <tr>\n      <th>128</th>\n      <td>I53</td>\n      <td>Employment-Based Preferences</td>\n      <td>Employment 5th Preference (Employment Creation...</td>\n      <td>Child of I51 203(d) &amp; 203(b)(5)</td>\n    </tr>\n    <tr>\n      <th>129</th>\n      <td>DV1</td>\n      <td>Other Numerically Limited Categories</td>\n      <td>Diversity Immigrants</td>\n      <td>Diversity Immigrant 203(c)</td>\n    </tr>\n    <tr>\n      <th>130</th>\n      <td>DV2</td>\n      <td>Other Numerically Limited Categories</td>\n      <td>Diversity Immigrants</td>\n      <td>Spouse of DV1 203(d) &amp; 203(c)</td>\n    </tr>\n    <tr>\n      <th>131</th>\n      <td>DV3</td>\n      <td>Other Numerically Limited Categories</td>\n      <td>Diversity Immigrants</td>\n      <td>Child of DV1 203(d) &amp; 203(c)</td>\n    </tr>\n  </tbody>\n</table>\n<p>132 rows × 4 columns</p>\n</div>"
     },
     "metadata": {},
     "execution_count": 25
    }
   ],
   "source": [
    "iv = pd.read_csv(iv_catalog, delimiter=\"|\")\n",
    "iv"
   ]
  },
  {
   "cell_type": "code",
   "execution_count": 26,
   "metadata": {},
   "outputs": [
    {
     "output_type": "execute_result",
     "data": {
      "text/plain": "   VisaClass                                        Description\n0        A-1  Ambassador, public minister, career diplomat o...\n1        A-2  Other foreign government official or employee,...\n2        A-3  Attendant, servant, or personal employee of A1...\n3        B-1       Temporary visitor for business 101(a)(15)(B)\n4    B-1/B-2  Temporary visitor for business & pleasure 101(...\n..       ...                                                ...\n76       U-1  Victim of criminal activity INA 101(a)(15)(U)(i).\n77       U-2                    Spouse of U-1 101(a)(15)(U)(ii)\n78       U-3                     Child of U-1 101(a)(15)(U)(ii)\n79       U-4  Parent of U-1 under 21 years of age 101(a)(15)...\n80       U-5  Unmarried sibling under age 18 of U-1 under 21...\n\n[81 rows x 2 columns]",
      "text/html": "<div>\n<style scoped>\n    .dataframe tbody tr th:only-of-type {\n        vertical-align: middle;\n    }\n\n    .dataframe tbody tr th {\n        vertical-align: top;\n    }\n\n    .dataframe thead th {\n        text-align: right;\n    }\n</style>\n<table border=\"1\" class=\"dataframe\">\n  <thead>\n    <tr style=\"text-align: right;\">\n      <th></th>\n      <th>VisaClass</th>\n      <th>Description</th>\n    </tr>\n  </thead>\n  <tbody>\n    <tr>\n      <th>0</th>\n      <td>A-1</td>\n      <td>Ambassador, public minister, career diplomat o...</td>\n    </tr>\n    <tr>\n      <th>1</th>\n      <td>A-2</td>\n      <td>Other foreign government official or employee,...</td>\n    </tr>\n    <tr>\n      <th>2</th>\n      <td>A-3</td>\n      <td>Attendant, servant, or personal employee of A1...</td>\n    </tr>\n    <tr>\n      <th>3</th>\n      <td>B-1</td>\n      <td>Temporary visitor for business 101(a)(15)(B)</td>\n    </tr>\n    <tr>\n      <th>4</th>\n      <td>B-1/B-2</td>\n      <td>Temporary visitor for business &amp; pleasure 101(...</td>\n    </tr>\n    <tr>\n      <th>...</th>\n      <td>...</td>\n      <td>...</td>\n    </tr>\n    <tr>\n      <th>76</th>\n      <td>U-1</td>\n      <td>Victim of criminal activity INA 101(a)(15)(U)(i).</td>\n    </tr>\n    <tr>\n      <th>77</th>\n      <td>U-2</td>\n      <td>Spouse of U-1 101(a)(15)(U)(ii)</td>\n    </tr>\n    <tr>\n      <th>78</th>\n      <td>U-3</td>\n      <td>Child of U-1 101(a)(15)(U)(ii)</td>\n    </tr>\n    <tr>\n      <th>79</th>\n      <td>U-4</td>\n      <td>Parent of U-1 under 21 years of age 101(a)(15)...</td>\n    </tr>\n    <tr>\n      <th>80</th>\n      <td>U-5</td>\n      <td>Unmarried sibling under age 18 of U-1 under 21...</td>\n    </tr>\n  </tbody>\n</table>\n<p>81 rows × 2 columns</p>\n</div>"
     },
     "metadata": {},
     "execution_count": 26
    }
   ],
   "source": [
    "niv = pd.read_csv(niv_catalog, delimiter=\"|\")\n",
    "niv"
   ]
  }
 ]
}