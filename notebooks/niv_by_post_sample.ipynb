{
 "nbformat": 4,
 "nbformat_minor": 2,
 "metadata": {
  "language_info": {
   "name": "python",
   "codemirror_mode": {
    "name": "ipython",
    "version": 3
   },
   "version": "3.7.6-final"
  },
  "orig_nbformat": 2,
  "file_extension": ".py",
  "mimetype": "text/x-python",
  "name": "python",
  "npconvert_exporter": "python",
  "pygments_lexer": "ipython3",
  "version": 3,
  "kernelspec": {
   "name": "python3",
   "display_name": "Python 3"
  }
 },
 "cells": [
  {
   "cell_type": "code",
   "execution_count": 25,
   "metadata": {},
   "outputs": [],
   "source": [
    "import pandas as pd"
   ]
  },
  {
   "cell_type": "code",
   "execution_count": 26,
   "metadata": {},
   "outputs": [],
   "source": [
    "fl = '/home/hminaya/Code/visa/data/processed/October 2018 - NIV Issuances by Post and Visa Class.csv'\n",
    "\n",
    "iv = pd.read_csv(\n",
    "    fl,\n",
    "    delimiter=' ', \n",
    "    header=None,\n",
    "    names=['Post', 'VisaClass', 'Quantity']\n",
    "    )"
   ]
  },
  {
   "cell_type": "code",
   "execution_count": 27,
   "metadata": {},
   "outputs": [
    {
     "output_type": "execute_result",
     "data": {
      "text/plain": "         Post VisaClass Quantity\n0     abidjan        a1        3\n1     abidjan        a2       17\n2     abidjan        b1        5\n3     abidjan     b1/b2      409\n4     abidjan        b2       27\n...       ...       ...      ...\n4348   zagreb        j2        1\n4349   zagreb        k1        2\n4350   zagreb        l1        5\n4351   zagreb        l2        4\n4352   zagreb        p1        7\n\n[4353 rows x 3 columns]",
      "text/html": "<div>\n<style scoped>\n    .dataframe tbody tr th:only-of-type {\n        vertical-align: middle;\n    }\n\n    .dataframe tbody tr th {\n        vertical-align: top;\n    }\n\n    .dataframe thead th {\n        text-align: right;\n    }\n</style>\n<table border=\"1\" class=\"dataframe\">\n  <thead>\n    <tr style=\"text-align: right;\">\n      <th></th>\n      <th>Post</th>\n      <th>VisaClass</th>\n      <th>Quantity</th>\n    </tr>\n  </thead>\n  <tbody>\n    <tr>\n      <th>0</th>\n      <td>abidjan</td>\n      <td>a1</td>\n      <td>3</td>\n    </tr>\n    <tr>\n      <th>1</th>\n      <td>abidjan</td>\n      <td>a2</td>\n      <td>17</td>\n    </tr>\n    <tr>\n      <th>2</th>\n      <td>abidjan</td>\n      <td>b1</td>\n      <td>5</td>\n    </tr>\n    <tr>\n      <th>3</th>\n      <td>abidjan</td>\n      <td>b1/b2</td>\n      <td>409</td>\n    </tr>\n    <tr>\n      <th>4</th>\n      <td>abidjan</td>\n      <td>b2</td>\n      <td>27</td>\n    </tr>\n    <tr>\n      <th>...</th>\n      <td>...</td>\n      <td>...</td>\n      <td>...</td>\n    </tr>\n    <tr>\n      <th>4348</th>\n      <td>zagreb</td>\n      <td>j2</td>\n      <td>1</td>\n    </tr>\n    <tr>\n      <th>4349</th>\n      <td>zagreb</td>\n      <td>k1</td>\n      <td>2</td>\n    </tr>\n    <tr>\n      <th>4350</th>\n      <td>zagreb</td>\n      <td>l1</td>\n      <td>5</td>\n    </tr>\n    <tr>\n      <th>4351</th>\n      <td>zagreb</td>\n      <td>l2</td>\n      <td>4</td>\n    </tr>\n    <tr>\n      <th>4352</th>\n      <td>zagreb</td>\n      <td>p1</td>\n      <td>7</td>\n    </tr>\n  </tbody>\n</table>\n<p>4353 rows × 3 columns</p>\n</div>"
     },
     "metadata": {},
     "execution_count": 27
    }
   ],
   "source": [
    "iv"
   ]
  },
  {
   "cell_type": "code",
   "execution_count": 28,
   "metadata": {},
   "outputs": [],
   "source": [
    "iv['VisaType'] = 'NIV'\n",
    "iv['Year'] = 2018\n",
    "iv['Month'] = 'October'"
   ]
  },
  {
   "cell_type": "code",
   "execution_count": 29,
   "metadata": {},
   "outputs": [
    {
     "output_type": "execute_result",
     "data": {
      "text/plain": "         Post VisaClass Quantity VisaType  Year    Month\n0     abidjan        a1        3      NIV  2018  October\n1     abidjan        a2       17      NIV  2018  October\n2     abidjan        b1        5      NIV  2018  October\n3     abidjan     b1/b2      409      NIV  2018  October\n4     abidjan        b2       27      NIV  2018  October\n...       ...       ...      ...      ...   ...      ...\n4348   zagreb        j2        1      NIV  2018  October\n4349   zagreb        k1        2      NIV  2018  October\n4350   zagreb        l1        5      NIV  2018  October\n4351   zagreb        l2        4      NIV  2018  October\n4352   zagreb        p1        7      NIV  2018  October\n\n[4353 rows x 6 columns]",
      "text/html": "<div>\n<style scoped>\n    .dataframe tbody tr th:only-of-type {\n        vertical-align: middle;\n    }\n\n    .dataframe tbody tr th {\n        vertical-align: top;\n    }\n\n    .dataframe thead th {\n        text-align: right;\n    }\n</style>\n<table border=\"1\" class=\"dataframe\">\n  <thead>\n    <tr style=\"text-align: right;\">\n      <th></th>\n      <th>Post</th>\n      <th>VisaClass</th>\n      <th>Quantity</th>\n      <th>VisaType</th>\n      <th>Year</th>\n      <th>Month</th>\n    </tr>\n  </thead>\n  <tbody>\n    <tr>\n      <th>0</th>\n      <td>abidjan</td>\n      <td>a1</td>\n      <td>3</td>\n      <td>NIV</td>\n      <td>2018</td>\n      <td>October</td>\n    </tr>\n    <tr>\n      <th>1</th>\n      <td>abidjan</td>\n      <td>a2</td>\n      <td>17</td>\n      <td>NIV</td>\n      <td>2018</td>\n      <td>October</td>\n    </tr>\n    <tr>\n      <th>2</th>\n      <td>abidjan</td>\n      <td>b1</td>\n      <td>5</td>\n      <td>NIV</td>\n      <td>2018</td>\n      <td>October</td>\n    </tr>\n    <tr>\n      <th>3</th>\n      <td>abidjan</td>\n      <td>b1/b2</td>\n      <td>409</td>\n      <td>NIV</td>\n      <td>2018</td>\n      <td>October</td>\n    </tr>\n    <tr>\n      <th>4</th>\n      <td>abidjan</td>\n      <td>b2</td>\n      <td>27</td>\n      <td>NIV</td>\n      <td>2018</td>\n      <td>October</td>\n    </tr>\n    <tr>\n      <th>...</th>\n      <td>...</td>\n      <td>...</td>\n      <td>...</td>\n      <td>...</td>\n      <td>...</td>\n      <td>...</td>\n    </tr>\n    <tr>\n      <th>4348</th>\n      <td>zagreb</td>\n      <td>j2</td>\n      <td>1</td>\n      <td>NIV</td>\n      <td>2018</td>\n      <td>October</td>\n    </tr>\n    <tr>\n      <th>4349</th>\n      <td>zagreb</td>\n      <td>k1</td>\n      <td>2</td>\n      <td>NIV</td>\n      <td>2018</td>\n      <td>October</td>\n    </tr>\n    <tr>\n      <th>4350</th>\n      <td>zagreb</td>\n      <td>l1</td>\n      <td>5</td>\n      <td>NIV</td>\n      <td>2018</td>\n      <td>October</td>\n    </tr>\n    <tr>\n      <th>4351</th>\n      <td>zagreb</td>\n      <td>l2</td>\n      <td>4</td>\n      <td>NIV</td>\n      <td>2018</td>\n      <td>October</td>\n    </tr>\n    <tr>\n      <th>4352</th>\n      <td>zagreb</td>\n      <td>p1</td>\n      <td>7</td>\n      <td>NIV</td>\n      <td>2018</td>\n      <td>October</td>\n    </tr>\n  </tbody>\n</table>\n<p>4353 rows × 6 columns</p>\n</div>"
     },
     "metadata": {},
     "execution_count": 29
    }
   ],
   "source": [
    "iv"
   ]
  }
 ]
}